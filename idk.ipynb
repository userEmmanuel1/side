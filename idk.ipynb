{
 "cells": [
  {
   "cell_type": "code",
   "execution_count": 47,
   "metadata": {},
   "outputs": [
    {
     "name": "stdout",
     "output_type": "stream",
     "text": [
      "[*********************100%%**********************]  1 of 1 completed\n",
      "                  Open        High         Low       Close   Adj Close  \\\n",
      "Date                                                                     \n",
      "2008-03-19   14.875000   17.250000   13.750000   14.125000   12.652096   \n",
      "2008-03-20   14.600000   16.250000   14.375000   16.087500   14.409959   \n",
      "2008-03-24   16.809999   16.924999   14.750000   14.932500   13.375390   \n",
      "2008-03-25   15.145000   16.062500   14.955000   15.812500   14.163630   \n",
      "2008-03-26   15.682500   16.120001   15.392500   15.990000   14.322618   \n",
      "...                ...         ...         ...         ...         ...   \n",
      "2018-12-24  122.080002  125.209999  121.599998  121.730003  117.648727   \n",
      "2018-12-26  123.019997  130.240005  123.000000  130.229996  125.863731   \n",
      "2018-12-27  127.989998  132.009995  126.519997  132.009995  127.584084   \n",
      "2018-12-28  133.080002  133.619995  129.660004  130.940002  126.549927   \n",
      "2018-12-31  131.679993  132.440002  130.229996  131.940002  127.516418   \n",
      "\n",
      "               Volume  Dividends  Stock Splits  \n",
      "Date                                            \n",
      "2008-03-19  708486000        0.0           0.0  \n",
      "2008-03-20  198985200        0.0           0.0  \n",
      "2008-03-24  149566400        0.0           0.0  \n",
      "2008-03-25   87092000        0.0           0.0  \n",
      "2008-03-26   43111600        0.0           0.0  \n",
      "...               ...        ...           ...  \n",
      "2018-12-24    8617700        0.0           0.0  \n",
      "2018-12-26   13499500        0.0           0.0  \n",
      "2018-12-27   10883000        0.0           0.0  \n",
      "2018-12-28    7381300        0.0           0.0  \n",
      "2018-12-31    7976000        0.0           0.0  \n",
      "\n",
      "[2716 rows x 8 columns]\n"
     ]
    }
   ],
   "source": [
    "import pandas as pd\n",
    "import yfinance as yf\n",
    "import statsmodels.api as sm \n",
    "import getFamaFrenchFactors as gff \n",
    "import datetime as dt\n",
    "import multiprocessing\n",
    "\n",
    "ticker = 'V'\n",
    "start = '2000-01-01'\n",
    "end = '2019-01-01'\n",
    "\n",
    "stock_data = yf.download(ticker, start, end, actions=True)\n",
    "print(stock_data)\n"
   ]
  },
  {
   "cell_type": "code",
   "execution_count": 48,
   "metadata": {},
   "outputs": [
    {
     "name": "stdout",
     "output_type": "stream",
     "text": [
      "            Mkt-RF     SMB     HML      RF\n",
      "Date                                      \n",
      "1926-07-31  0.0296 -0.0256 -0.0243  0.0022\n",
      "1926-08-31  0.0264 -0.0117  0.0382  0.0025\n",
      "1926-09-30  0.0036 -0.0140  0.0013  0.0023\n",
      "1926-10-31 -0.0324 -0.0009  0.0070  0.0032\n",
      "1926-11-30  0.0253 -0.0010 -0.0051  0.0031\n",
      "...            ...     ...     ...     ...\n",
      "2023-08-31 -0.0239 -0.0316 -0.0106  0.0045\n",
      "2023-09-30 -0.0524 -0.0251  0.0152  0.0043\n",
      "2023-10-31 -0.0319 -0.0387  0.0019  0.0047\n",
      "2023-11-30  0.0884 -0.0002  0.0164  0.0044\n",
      "2023-12-31  0.0485  0.0635  0.0494  0.0043\n",
      "\n",
      "[1170 rows x 4 columns]\n"
     ]
    }
   ],
   "source": [
    "ff3_monthly = gff.famaFrench3Factor(frequency='m')\n",
    "ff3_monthly.rename(columns={\"date_ff_factors\" : 'Date'}, inplace=True)\n",
    "ff3_monthly.set_index('Date', inplace=True)\n",
    "print(ff3_monthly)\n"
   ]
  },
  {
   "cell_type": "code",
   "execution_count": 49,
   "metadata": {},
   "outputs": [
    {
     "name": "stdout",
     "output_type": "stream",
     "text": [
      "[*********************100%%**********************]  1 of 1 completed\n",
      "             Adj Close\n",
      "Date                  \n",
      "2020-01-02  185.897491\n",
      "2020-01-03  184.419006\n",
      "2020-01-06  184.020248\n",
      "2020-01-07  183.533905\n",
      "2020-01-08  186.675598\n",
      "...                ...\n",
      "2020-12-24  204.246628\n",
      "2020-12-28  208.092743\n",
      "2020-12-29  209.795593\n",
      "2020-12-30  213.700470\n",
      "2020-12-31  214.062561\n",
      "\n",
      "[253 rows x 1 columns]\n",
      "Start of Year Date: 2020-01-01, Adjusted Close: $185.90\n",
      "End of Year Date: 2021-01-01, Adjusted Close: $214.06\n",
      "Percentage Difference: 15.15%\n"
     ]
    }
   ],
   "source": [
    "import yfinance as yf\n",
    "import multiprocessing\n",
    "ticker = ticker\n",
    "start_test = '2020-01-01'\n",
    "end_test = '2021-01-01'\n",
    "\n",
    "\n",
    "# Download historical stock data\n",
    "stock_test = yf.download(ticker, start_test, end_test, actions=True)\n",
    "\n",
    "# Drop unnecessary columns\n",
    "columns_to_drop = ['Open', 'High', 'Low', 'Close', 'Volume', 'Dividends', 'Stock Splits']\n",
    "stock_test.drop(columns=columns_to_drop, inplace=True)\n",
    "\n",
    "# Extract adjusted closing prices\n",
    "adj_close_prices = stock_test['Adj Close']\n",
    "global percentage_difference\n",
    "# Calculate percentage difference from the start of the year to the end\n",
    "start_of_year_price = adj_close_prices.iloc[0]\n",
    "end_of_year_price = adj_close_prices.iloc[-1]\n",
    "percentage_difference = ((end_of_year_price - start_of_year_price) / start_of_year_price) * 100\n",
    "\n",
    "print(stock_test)\n",
    "print(f\"Start of Year Date: {start_test}, Adjusted Close: ${start_of_year_price:.2f}\")\n",
    "print(f\"End of Year Date: {end_test}, Adjusted Close: ${end_of_year_price:.2f}\")\n",
    "print(f\"Percentage Difference: {percentage_difference:.2f}%\")\n"
   ]
  },
  {
   "cell_type": "code",
   "execution_count": 50,
   "metadata": {},
   "outputs": [
    {
     "name": "stdout",
     "output_type": "stream",
     "text": [
      "[*********************100%%**********************]  1 of 1 completed\n",
      "[*********************100%%**********************]  1 of 1 completed\n",
      "                            OLS Regression Results                            \n",
      "==============================================================================\n",
      "Dep. Variable:                      y   R-squared:                       0.401\n",
      "Model:                            OLS   Adj. R-squared:                  0.387\n",
      "Method:                 Least Squares   F-statistic:                     30.51\n",
      "Date:                Thu, 01 Feb 2024   Prob (F-statistic):           3.59e-15\n",
      "Time:                        19:00:01   Log-Likelihood:                 225.26\n",
      "No. Observations:                 141   AIC:                            -442.5\n",
      "Df Residuals:                     137   BIC:                            -430.7\n",
      "Df Model:                           3                                         \n",
      "Covariance Type:            nonrobust                                         \n",
      "==============================================================================\n",
      "                 coef    std err          t      P>|t|      [0.025      0.975]\n",
      "------------------------------------------------------------------------------\n",
      "const          0.0103      0.004      2.393      0.018       0.002       0.019\n",
      "Mkt-RF         0.9824      0.105      9.378      0.000       0.775       1.190\n",
      "SMB           -0.4376      0.190     -2.297      0.023      -0.814      -0.061\n",
      "HML           -0.6770      0.159     -4.247      0.000      -0.992      -0.362\n",
      "==============================================================================\n",
      "Omnibus:                       60.044   Durbin-Watson:                   2.118\n",
      "Prob(Omnibus):                  0.000   Jarque-Bera (JB):              331.501\n",
      "Skew:                           1.381   Prob(JB):                     1.04e-72\n",
      "Kurtosis:                       9.985   Cond. No.                         46.5\n",
      "==============================================================================\n",
      "\n",
      "Notes:\n",
      "[1] Standard Errors assume that the covariance matrix of the errors is correctly specified.\n",
      "Expected yearly return: 0.04725189912627185\n",
      "Number 4.725189912627185\n"
     ]
    }
   ],
   "source": [
    "import pandas as pd\n",
    "import yfinance as yf\n",
    "import statsmodels.api as sm\n",
    "import getFamaFrenchFactors as gff\n",
    "import multiprocessing\n",
    "import matplotlib.pyplot as plt\n",
    "import datetime as dt\n",
    "\n",
    "\n",
    "##ALLOW USER INPUT##\n",
    "ticker = ticker\n",
    "#trainging data#\n",
    "start_train = '2001-01-01'\n",
    "end_train ='2020-01-01'\n",
    "\n",
    "\n",
    "\n",
    "#testing data\n",
    "test_start = '2017-01-01'\n",
    "test_end= '2018-01-01'\n",
    "\n",
    "\n",
    "stock_data = yf.download(ticker, start_train, end_train)\n",
    "#\n",
    "test_data=yf.download(ticker, test_start, test_end)\n",
    "\n",
    "\n",
    "ff3_monthly = gff.famaFrench3Factor(frequency='m')\n",
    "ff3_monthly.rename(columns={\"date_ff_factors\": 'Date'}, inplace=True)\n",
    "ff3_monthly.set_index('Date', inplace=True)\n",
    "\n",
    "#\n",
    "ff3_test_monthly=gff.famaFrench3Factor(frequency='m')\n",
    "ff3_test_monthly.rename(columns={\"date_ff_factors\" : 'Date'}, inplace=True)\n",
    "ff3_test_monthly.set_index('Date', inplace=True)\n",
    "\n",
    "stock_returns = stock_data['Adj Close'].resample('m').last().pct_change().dropna()\n",
    "\n",
    "stock_returns.name = \"Month_Rtn\"\n",
    "ff_data = ff3_monthly.merge(stock_returns,on='Date')\n",
    " \n",
    "X = ff_data[['Mkt-RF', 'SMB', 'HML']]\n",
    "\n",
    "##Excess return on a monthly basis\n",
    "y = ff_data['Month_Rtn'] - ff_data['RF']\n",
    "\n",
    "X = sm.add_constant(X)\n",
    "ff_model = sm.OLS(y, X).fit()\n",
    "print(ff_model.summary())\n",
    "intercept, b1, b2, b3 = ff_model.params\n",
    "\n",
    "rf = ff_data['RF'].mean()\n",
    "market_premium = ff3_monthly['Mkt-RF'].mean()\n",
    "size_premium = ff3_monthly['SMB'].mean()\n",
    "value_premium = ff3_monthly['HML'].mean()\n",
    "global expected_yearly_return_int\n",
    "expected_monthly_return = rf + b1 * market_premium + b2 * size_premium + b3 * value_premium \n",
    "expected_yearly_return = expected_monthly_return * 12\n",
    "expected_yearly_return_int = float (expected_yearly_return *100)\n",
    "print(\"Expected yearly return: \" + str(expected_yearly_return))\n",
    "print (f\"Number {expected_yearly_return_int}\")"
   ]
  },
  {
   "cell_type": "code",
   "execution_count": 51,
   "metadata": {},
   "outputs": [
    {
     "name": "stdout",
     "output_type": "stream",
     "text": [
      "13.725740321921247\n"
     ]
    }
   ],
   "source": [
    "import multiprocessing \n",
    "#Just to give more weight on newer data\n",
    "avg_est_return = ((expected_yearly_return_int + percentage_difference * 1.5 )) / 2 \n",
    "print(avg_est_return)"
   ]
  },
  {
   "cell_type": "code",
   "execution_count": 52,
   "metadata": {},
   "outputs": [
    {
     "name": "stdout",
     "output_type": "stream",
     "text": [
      "[*********************100%%**********************]  1 of 1 completed\n",
      "2024-02-05 13:05:34.959604\n"
     ]
    }
   ],
   "source": [
    "#get past 7 days of closing price \n",
    "\n",
    "import yfinance as yf\n",
    "import pandas as pd\n",
    "import multiprocessing\n",
    "import time \n",
    "import datetime as dt \n",
    "\n",
    "current_time = dt.datetime.now()\n",
    "# Download historical stock data\n",
    "ticker = ticker\n",
    "start_date = '2024-01-01'\n",
    "end_date = '2024-01-07'\n",
    "\n",
    "stock_data = yf.download(ticker, start=start_date, end=end_date)\n",
    "\n",
    "# Convert the historical data to a DataFrame\n",
    "df = pd.DataFrame(stock_data) \n",
    "print(current_time)"
   ]
  }
 ],
 "metadata": {
  "kernelspec": {
   "display_name": "Python 3",
   "language": "python",
   "name": "python3"
  },
  "language_info": {
   "codemirror_mode": {
    "name": "ipython",
    "version": 3
   },
   "file_extension": ".py",
   "mimetype": "text/x-python",
   "name": "python",
   "nbconvert_exporter": "python",
   "pygments_lexer": "ipython3",
   "version": "3.11.5"
  }
 },
 "nbformat": 4,
 "nbformat_minor": 2
}
